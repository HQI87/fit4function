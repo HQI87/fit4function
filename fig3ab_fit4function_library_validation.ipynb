{
  "cells": [
    {
      "cell_type": "markdown",
      "metadata": {},
      "source": [
        "# Fit4Function library validation: Fit4Function libraries uniformly sample the high production fitness space.\n"
      ]
    },
    {
      "cell_type": "markdown",
      "metadata": {},
      "source": [
        "# Setup"
      ]
    },
    {
      "cell_type": "code",
      "execution_count": null,
      "metadata": {
        "ExecuteTime": {
          "end_time": "2021-05-18T17:20:19.156209Z",
          "start_time": "2021-05-18T17:20:18.568510Z"
        }
      },
      "outputs": [],
      "source": [
        "import pandas as pd\n",
        "import numpy as np\n",
        "import matplotlib as mpl\n",
        "import matplotlib.pyplot as plt\n",
        "import seaborn as sns\n",
        "\n",
        "from IPython.display import Image\n",
        "\n",
        "from utils_f4f import heatmap"
      ]
    },
    {
      "cell_type": "markdown",
      "metadata": {},
      "source": [
        "-------\n",
        "# Fit4Function production fitness distribution aligns with the expected production fit distribution \n",
        "\n"
      ]
    },
    {
      "cell_type": "code",
      "execution_count": null,
      "metadata": {
        "ExecuteTime": {
          "end_time": "2021-05-18T17:20:42.932153Z",
          "start_time": "2021-05-18T17:20:23.742699Z"
        }
      },
      "outputs": [],
      "source": [
        "# Data \n",
        "\n",
        "# Modeling library \n",
        "FileName = 'data/modeling_library_production_fitness.csv';\n",
        "training = pd.read_csv(FileName, usecols=['AA', 'Label','Production'])\n",
        "\n",
        "# Fit4Function library \n",
        "Fit4Fxn = pd.read_csv('data/fit4function_library_screens.csv', usecols=['AA','Production1'])"
      ]
    },
    {
      "cell_type": "code",
      "execution_count": null,
      "metadata": {},
      "outputs": [],
      "source": [
        "# Parameters \n",
        "\n",
        "# Calibration shift \n",
        "\"\"\"\n",
        "A shift in Fit4Function production measurements to be brought at bar with measurements in Modeling library.\n",
        "Estimated by a regression model. \n",
        "\"\"\"\n",
        "Claibration_Shift = 1.2923\n"
      ]
    },
    {
      "cell_type": "code",
      "execution_count": null,
      "metadata": {},
      "outputs": [],
      "source": [
        "# Preprocessing \n",
        "\n",
        "training_x = np.log2(training['Production'])\n",
        "valid_training_x = training_x[~np.isinf(training_x)]\n",
        "n_invalid_training_x = np.isinf(training_x).sum()\n",
        "\n",
        "hh_x = Fit4Fxn['Production1']\n",
        "valid_hh_x = hh_x[~np.isinf(hh_x)]\n",
        "n_invalid_hh_x = np.isinf(hh_x).sum()\n"
      ]
    },
    {
      "cell_type": "code",
      "execution_count": null,
      "metadata": {
        "ExecuteTime": {
          "end_time": "2021-05-19T20:44:42.008455Z",
          "start_time": "2021-05-19T20:41:33.253655Z"
        }
      },
      "outputs": [],
      "source": [
        "# Figure \n",
        "\n",
        "bin_width = 0.1\n",
        "bins = np.arange(-200, 200, bin_width)\n",
        "ylim = [0, 0.3]\n",
        "\n",
        "sns.set_theme(style='ticks', font_scale=0.75, rc={\n",
        "    'font.family': 'sans-serif',\n",
        "    'font.sans-serif': ['Arial', 'DejaVu Sans'],\n",
        "    'svg.fonttype': 'none',\n",
        "    'text.usetex': False,\n",
        "    'pdf.fonttype': 42,\n",
        "    'ps.fonttype': 42,\n",
        "    'font.size': 9,\n",
        "    'axes.labelsize': 9,\n",
        "    'axes.titlesize': 9,\n",
        "    'axes.labelpad': 2,\n",
        "    'axes.linewidth': 0.5,\n",
        "    'axes.titlepad': 4,\n",
        "    'lines.linewidth': 0.5,\n",
        "    'legend.fontsize': 9,\n",
        "    'legend.title_fontsize': 9,\n",
        "    'xtick.major.size': 2,\n",
        "    'xtick.major.pad': 2,\n",
        "    'xtick.major.width': 0.5,\n",
        "    'ytick.major.size': 2,\n",
        "    'ytick.major.pad': 2,\n",
        "    'ytick.major.width': 0.5,\n",
        "    'xtick.minor.size': 2,\n",
        "    'xtick.minor.pad': 2,\n",
        "    'xtick.minor.width': 0.5,\n",
        "    'ytick.minor.size': 2,\n",
        "    'ytick.minor.pad': 2,\n",
        "    'ytick.minor.width': 0.5,\n",
        "})\n",
        "\n",
        "fig = plt.figure(figsize=(1.75, 1.5), dpi=300)\n",
        "#fig = plt.figure(figsize=(6, 4))\n",
        "gs = fig.add_gridspec(\n",
        "    # 1, 2,\n",
        "    1, 1,\n",
        "    wspace=0, hspace=0,\n",
        "    # width_ratios=[1, 8],\n",
        "    left=0.25, right=0.95, bottom=0.3, top=0.95\n",
        ")\n",
        "\n",
        "# Histograms\n",
        "ax = fig.add_subplot(gs[0, 0])\n",
        "ax.hist(\n",
        "    np.concatenate([\n",
        "        valid_training_x, \n",
        "        np.zeros(n_invalid_training_x) - 100\n",
        "    ]), \n",
        "    bins=bins, linewidth=0, density=True, color='#AAA',\n",
        "    rasterized=True\n",
        ")\n",
        "\n",
        "ax.hist(\n",
        "    np.concatenate([\n",
        "        valid_hh_x, \n",
        "        np.zeros(n_invalid_hh_x) - 100\n",
        "    ]) + Claibration_Shift, \n",
        "    bins=bins, linewidth=0, density=True, color='#FF1D25', alpha=0.5,\n",
        "    rasterized=True\n",
        ")\n",
        "\n",
        "# Text \n",
        "ax.text(-12.5, 0.09, 'Uniform\\nLibrary', ha='left', va='bottom', color='#888', fontsize=9)\n",
        "ax.text(0.95, 0.25, 'Fit4Function Library', \n",
        "        transform=mpl.transforms.blended_transform_factory(ax.transAxes, ax.transData), \n",
        "        ha='right', va='bottom', color='#FF1D25', fontsize=9)\n",
        "\n",
        "ax.set_xlim([-14, 7])\n",
        "ax.set_xticks([-12, -8, -4, 0, 4])\n",
        "ax.set_ylim(ylim)\n",
        "# ax.set_yticks([])\n",
        "\n",
        "ax.set_xlabel('Measured\\nProduction Fitness')\n",
        "ax.set_ylabel('Density')\n",
        "\n",
        "# Save figure and show \n",
        "filename = 'figures/fig3a_fit4function_vs_uniform_distribution'\n",
        "fig.savefig('{}.png'.format(filename), transparent=True, dpi=300)\n",
        "fig.savefig('{}_600dpi.svg'.format(filename), dpi=600)\n",
        "fig.savefig('{}_1200dpi.svg'.format(filename), dpi=1200)\n",
        "\n",
        "plt.close()\n",
        "\n",
        "Image(filename + '.png')"
      ]
    },
    {
      "cell_type": "markdown",
      "metadata": {},
      "source": [
        "-----------\n",
        "# Fit4Function AA distribution aligns with that expected of the high-fit distribution \n",
        "\n"
      ]
    },
    {
      "cell_type": "code",
      "execution_count": null,
      "metadata": {},
      "outputs": [],
      "source": [
        "# Data \n",
        "\n",
        "# Fit4Function library \n",
        "Fit4Fxn = pd.read_csv('data/fit4function_library_screens.csv', usecols=['AA'])\n",
        "\n",
        "# Modeling \n",
        "modeling = pd.read_csv('data/modeling_library_production_fitness.csv', usecols=['AA', 'Label','Production'])\n",
        "# Slicing out high production fit variants \n",
        "high_fit = modeling[(np.log2(modeling.Production) > -2) & ((modeling.Label =='Designed') | (modeling.Label =='Calibration'))] \n",
        "high_fit = high_fit.reset_index(drop = True)\n",
        "\n",
        "# NNK 240K \n",
        "nnk240 = pd.read_csv('data/nnk_library_top_production_fitness_240k.csv')\n"
      ]
    },
    {
      "cell_type": "code",
      "execution_count": null,
      "metadata": {},
      "outputs": [],
      "source": [
        "# Figure\n",
        "\n",
        "# Figure Configuration \n",
        "sns.set_theme(style='ticks', font_scale=0.75, rc={\n",
        "    'font.family': 'sans-serif',\n",
        "    'font.sans-serif': ['Arial', 'DejaVu Sans'],\n",
        "    'svg.fonttype': 'none',\n",
        "    'text.usetex': False,\n",
        "    'pdf.fonttype': 42,\n",
        "    'ps.fonttype': 42,\n",
        "    'font.size': 9,\n",
        "    'axes.labelsize': 9,\n",
        "    'axes.titlesize': 9,\n",
        "    'axes.labelpad': 2,\n",
        "    'axes.linewidth': 0.5,\n",
        "    'axes.titlepad': 4,\n",
        "    'lines.linewidth': 0.5,\n",
        "    'legend.fontsize': 9,\n",
        "    'legend.title_fontsize': 9,\n",
        "    'xtick.major.size': 2,\n",
        "    'xtick.major.pad': 2,\n",
        "    'xtick.major.width': 0.5,\n",
        "    'ytick.major.size': 2,\n",
        "    'ytick.major.pad': 2,\n",
        "    'ytick.major.width': 0.5,\n",
        "    'xtick.minor.size': 2,\n",
        "    'xtick.minor.pad': 2,\n",
        "    'xtick.minor.width': 0.5,\n",
        "    'ytick.minor.size': 2,\n",
        "    'ytick.minor.pad': 2,\n",
        "    'ytick.minor.width': 0.5,\n",
        "})\n",
        "\n",
        "fig = plt.figure(figsize=(2.5, 2.5), dpi=300)\n",
        "gs = fig.add_gridspec(\n",
        "    1, 3, left=0.04, right=0.77, bottom=0.15, top=0.78,\n",
        "    hspace=0., wspace=0.2,\n",
        ")\n",
        "gs2 = fig.add_gridspec(\n",
        "    1, 1, left=0.78, right=0.80, bottom=0.17, top=0.76\n",
        ")\n",
        "\n",
        "cmap = mpl.cm.coolwarm\n",
        "vmin = -0.1\n",
        "vmax = 0.1\n",
        "\n",
        "\n",
        "# Heatmaps \n",
        "ax = fig.add_subplot(gs[:, 0])\n",
        "heatmap(Fit4Fxn['AA'], ax, 'Fit4Function\\nn = 240K','results/heatmap_fit4function.csv',vmin, cmap, vmax)\n",
        "\n",
        "ax = fig.add_subplot(gs[:, 1])\n",
        "heatmap(high_fit['AA'], ax, 'Modeling\\nHigh production\\nn = 26K','results/heatmap_fitmodeling.csv',vmin, cmap, vmax)\n",
        "ax.set_xlabel('Position', labelpad=3)\n",
        "\n",
        "ax = fig.add_subplot(gs[:, 2])\n",
        "heatmap(nnk240['AA'], ax, 'NNK\\nn = 240K','results/heatmap_nnk_top_240k.csv',vmin, cmap, vmax)\n",
        "\n",
        "# Colorbar\n",
        "ax = fig.add_subplot(gs2[0, 0])\n",
        "norm = mpl.colors.Normalize(vmin=vmin, vmax=vmax)\n",
        "cb1 = mpl.colorbar.ColorbarBase(\n",
        "    ax, \n",
        "    cmap=cmap,\n",
        "    norm=norm,\n",
        "    values=np.linspace(-0.05, 0.1, 100),\n",
        "    orientation='vertical'\n",
        ")\n",
        "cb1.set_label(\n",
        "    'AA frequency relative to expected', \n",
        "    rotation=-90, labelpad=9\n",
        ")\n",
        "ax.yaxis.set_ticks_position('right')\n",
        "ax.yaxis.set_label_position('right')\n",
        "ax.tick_params(axis='y', labelsize=7, length=2, pad=2)\n",
        "\n",
        "\n",
        "# Save and display \n",
        "filename = 'figures/fig3b_fit4function_aa_distribution'\n",
        "fig.savefig('{}.png'.format(filename), dpi=300)\n",
        "fig.savefig('{}_600dpi.svg'.format(filename), dpi=600)\n",
        "fig.savefig('{}_1200dpi.svg'.format(filename), dpi=1200)\n",
        "\n",
        "plt.close()\n",
        "\n",
        "Image(filename + '.png')"
      ]
    }
  ],
  "metadata": {
    "kernelspec": {
      "display_name": "Python 3 (ipykernel)",
      "language": "python",
      "name": "python3"
    },
    "language_info": {
      "codemirror_mode": {
        "name": "ipython",
        "version": 3
      },
      "file_extension": ".py",
      "mimetype": "text/x-python",
      "name": "python",
      "nbconvert_exporter": "python",
      "pygments_lexer": "ipython3",
      "version": "3.9.17"
    },
    "toc": {
      "base_numbering": 1,
      "nav_menu": {},
      "number_sections": false,
      "sideBar": true,
      "skip_h1_title": false,
      "title_cell": "Table of Contents",
      "title_sidebar": "Contents",
      "toc_cell": true,
      "toc_position": {
        "height": "calc(100% - 180px)",
        "left": "10px",
        "top": "150px",
        "width": "334.774px"
      },
      "toc_section_display": true,
      "toc_window_display": true
    }
  },
  "nbformat": 4,
  "nbformat_minor": 4
}

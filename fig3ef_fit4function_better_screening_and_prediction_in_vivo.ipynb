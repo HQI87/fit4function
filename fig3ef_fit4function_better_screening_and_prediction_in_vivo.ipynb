{
 "cells": [
  {
   "cell_type": "markdown",
   "metadata": {},
   "source": [
    "# Fit4Function libraries enable accurate functional screening and prediction for in vivo assays. \n"
   ]
  },
  {
   "cell_type": "code",
   "execution_count": null,
   "metadata": {
    "ExecuteTime": {
     "end_time": "2021-05-24T20:21:35.081202Z",
     "start_time": "2021-05-24T20:21:34.514944Z"
    }
   },
   "outputs": [],
   "source": [
    "# Setup \n",
    "import pandas as pd\n",
    "import numpy as np\n",
    "import matplotlib as mpl\n",
    "import matplotlib.pyplot as plt\n",
    "import seaborn as sns\n",
    "import re\n",
    "\n",
    "from IPython.display import Image\n",
    "\n",
    "from scipy.stats import gaussian_kde"
   ]
  },
  {
   "cell_type": "markdown",
   "metadata": {},
   "source": [
    "-----------\n",
    "# Fit4Function variant biodistribution correlation between organs across 4 animals\n",
    " "
   ]
  },
  {
   "cell_type": "code",
   "execution_count": null,
   "metadata": {},
   "outputs": [],
   "source": [
    "# Data\n",
    "Organs_data = pd.ExcelFile('data/fit4function_library_invivo.xlsx')\n",
    "organs = ['Serum', 'Liver', 'Spleen', 'Kidney', 'Heart','Lung', 'SpinalCord', 'Brain']\n"
   ]
  },
  {
   "cell_type": "code",
   "execution_count": null,
   "metadata": {},
   "outputs": [],
   "source": [
    "# Correlation for each organ accross animals \n",
    "\n",
    "# Initializations \n",
    "organ_avg = dict()\n",
    "organ_cors = dict()\n",
    "organ_cors_avg = dict()\n",
    "\n",
    "for organ in organs: \n",
    "    crntOrgan = pd.read_excel(Organs_data, organ)  \n",
    "    \n",
    "    # Slice\n",
    "    enr_cols = [col for col in crntOrgan.columns if  re.search(r'Animal[1-4]', col)]\n",
    "\n",
    "    # Correlation \n",
    "    crnt_corr = []\n",
    "    for i, j in zip(*np.tril_indices(len(enr_cols), k=-1)):\n",
    "        x = np.array(crntOrgan[enr_cols[i]])\n",
    "        y = np.array(crntOrgan[enr_cols[j]])\n",
    "        remove = np.isnan(x) | np.isnan(y) | np.isinf(x) | np.isinf(y)\n",
    "        x = x[~remove]\n",
    "        y = y[~remove]\n",
    "        crnt_corr_pair = np.corrcoef(x, y)[0, 1]\n",
    "        crnt_corr.append(crnt_corr_pair)\n",
    "    organ_cors[organ] = crnt_corr\n",
    "    \n"
   ]
  },
  {
   "cell_type": "code",
   "execution_count": null,
   "metadata": {},
   "outputs": [],
   "source": [
    "# Summary Stats\n",
    "\n",
    "# Average correlation for each organ \n",
    "organ_cors_avg = {k: np.mean(v) for k, v in organ_cors.items()}\n",
    "print(organ_cors_avg)\n",
    "\n",
    "# Std correlation for each organ \n",
    "organ_cors_std = {k: np.std(v) for k, v in organ_cors.items()}\n",
    "organ_cors_std"
   ]
  },
  {
   "cell_type": "code",
   "execution_count": null,
   "metadata": {
    "ExecuteTime": {
     "end_time": "2021-05-24T22:09:22.358388Z",
     "start_time": "2021-05-24T22:09:17.755361Z"
    }
   },
   "outputs": [],
   "source": [
    "# Figure\n",
    "\n",
    "# Figure Configurations \n",
    "sns.set_theme(style='ticks', font_scale=0.75, rc={\n",
    "    'svg.fonttype': 'none',\n",
    "    'font.sans-serif': ['Arial'],\n",
    "    'font.family': 'sans-serif',\n",
    "    'text.usetex': False,\n",
    "    'pdf.fonttype': 42,\n",
    "    'ps.fonttype': 42,\n",
    "    'font.size': 5,\n",
    "    'axes.labelsize': 5,\n",
    "    'axes.titlesize': 5,\n",
    "    'axes.labelpad': 2,\n",
    "    'axes.linewidth': 0.5,\n",
    "    'axes.titlepad': 4,\n",
    "    'lines.linewidth': 0.5,\n",
    "    'legend.fontsize': 5,\n",
    "    'legend.title_fontsize': 5,\n",
    "    'xtick.major.size': 3,\n",
    "    'xtick.major.pad': 3,\n",
    "    'xtick.major.width': 0.5,\n",
    "    'ytick.major.size': 3,\n",
    "    'ytick.major.pad': 3,\n",
    "    'ytick.major.width': 0.5,\n",
    "})\n",
    "\n",
    "fig = plt.figure(figsize=(1.75, 1.75), dpi=300)\n",
    "gs = fig.add_gridspec(\n",
    "    1, 1, bottom=0.4, top=0.9, left=0.3, right=0.9\n",
    ")\n",
    "\n",
    "ax = fig.add_subplot(gs[0, 0])\n",
    "\n",
    "for i in range(0, len(organs) - 1):\n",
    "    ax.axvline(i + 1.5, color='#DDD', linewidth=0.3)\n",
    "    \n",
    "x = np.repeat(np.arange(0, len(organs)) + 1, 6)\n",
    "y = np.concatenate(list(organ_cors.values()))\n",
    "\n",
    "# Bars \n",
    "ax.bar(np.arange(0, len(organs))+1, list(organ_cors_avg.values()),\n",
    "      edgecolor='none', color='r', alpha=0.4)\n",
    "\n",
    "ax.errorbar(np.arange(0, len(organs))+1, list(organ_cors_avg.values()), list(organ_cors_std.values()),\n",
    "           fmt='none', ecolor='k', elinewidth=0.5, capsize=2, capthick=0.5)\n",
    "\n",
    "ax.scatter(\n",
    "    x, y, s=10, marker='o',\n",
    "    linewidths=0.5,\n",
    "    facecolors='none', \n",
    "    edgecolors='r')\n",
    "\n",
    "# Labeling \n",
    "ax.set_xticks(np.arange(0, len(organs)) + 1)\n",
    "ax.set_xticklabels(organs)\n",
    "for tick in ax.get_xticklabels():\n",
    "    tick.set_rotation(90)\n",
    "ax.tick_params(axis='x', length=2, pad=1)\n",
    "    \n",
    "ax.set_yticks(np.arange(0.2, 1., 0.2))\n",
    "ax.set_ylim([0.15, 0.95])\n",
    "ax.tick_params(axis='y', length=2, pad=1)\n",
    "\n",
    "ax.set_ylabel('Pairwise replicate\\ncorrelation')\n",
    "\n",
    "# Show and save \n",
    "filename = 'figures/fig3e_fit4function_replication_quality_invivo'\n",
    "plt.savefig('{}.png'.format(filename), transparent=True)\n",
    "plt.savefig('{}_600dpi.svg'.format(filename), transparent=True, dpi = 600)\n",
    "plt.savefig('{}_1200dpi.svg'.format(filename), transparent=True, dpi = 1200)\n",
    "\n",
    "plt.close()\n",
    "\n",
    "Image(filename + '.png')"
   ]
  },
  {
   "cell_type": "markdown",
   "metadata": {},
   "source": [
    "------\n",
    "\n",
    "# Fit4Function modeling performance for C57 in vivo biodistribution \n"
   ]
  },
  {
   "cell_type": "code",
   "execution_count": null,
   "metadata": {},
   "outputs": [],
   "source": [
    "# Data\n",
    "Predictions = pd.ExcelFile('data/fit4function_library_invivo_predictions.xlsx')\n",
    "organs = ['Serum', 'Liver', 'Spleen', 'Kidney', 'Heart','Lung', 'SpinalCord', 'Brain']\n",
    "\n",
    "test_dfs = dict()\n",
    "for organ in organs:\n",
    "        test_dfs[organ] = pd.read_excel(Predictions, organ)\n",
    "        "
   ]
  },
  {
   "cell_type": "code",
   "execution_count": null,
   "metadata": {
    "ExecuteTime": {
     "end_time": "2021-05-24T22:24:14.974356Z",
     "start_time": "2021-05-24T22:24:10.137074Z"
    }
   },
   "outputs": [],
   "source": [
    "# Figure \n",
    "\n",
    "# Configurations\n",
    "fig = plt.figure(figsize=(3.5, 3), dpi=600)\n",
    "gs = fig.add_gridspec(\n",
    "    2, 4, \n",
    "    wspace=0.1, hspace=0.01\n",
    ")\n",
    "\n",
    "xlim = [-7, 8]\n",
    "ylim = xlim\n",
    "\n",
    "xticks = [-5, 0, 5]\n",
    "yticks = xticks\n",
    "pt_size = 0.5\n",
    "cmap = mpl.cm.viridis\n",
    "\n",
    "\n",
    "for i, organ in enumerate(organs):\n",
    "    ax = fig.add_subplot(gs[i // 4, i % 4])\n",
    "    \n",
    "    # Data \n",
    "    df = test_dfs[organ]   \n",
    "    x = df['Measured']\n",
    "    y = df['Predicted']\n",
    "    \n",
    "    # Kernel\n",
    "    kernel = gaussian_kde(np.vstack([\n",
    "        x.sample(n=1000, random_state=1),\n",
    "        y.sample(n=1000, random_state=1)\n",
    "    ]))\n",
    "    c = kernel(np.vstack([x, y]))\n",
    "    \n",
    "    # Specs \n",
    "    ax.set_aspect('equal', 'box')\n",
    "    ax.scatter(\n",
    "        x, y, c=c, s=pt_size, cmap=cmap, \n",
    "        rasterized=True, linewidth=0, edgecolors=None\n",
    "    )\n",
    "    ax.plot(xlim, ylim, '-r', linewidth=0.3)\n",
    "    ax.set_xlim(xlim); ax.set_ylim(ylim)\n",
    "    \n",
    "    # Label \n",
    "    #if i // 4 == 2:# or i == 5:\n",
    "    ax.set_xlabel('Measured')\n",
    "    #else:\n",
    "    #    ax.set_xticklabels([])\n",
    "        \n",
    "    if i % 4 == 0:\n",
    "        ax.set_ylabel('Predicted')\n",
    "    else:\n",
    "        ax.set_yticklabels([])\n",
    "        \n",
    "    ax.text(\n",
    "        -6, 7, s='{}\\n$r$={:.2f}'.format(organ, np.corrcoef(x, y)[0, 1]), \n",
    "        ha='left', va='top', fontsize=4\n",
    "    )\n",
    "    \n",
    "    \n",
    "# Show plot and save\n",
    "filename = 'figures/fig3f_fit4function_prediction_quality_invivo'\n",
    "plt.savefig('{}.png'.format(filename), transparent=True)\n",
    "plt.savefig('{}_600dpi.svg'.format(filename), transparent=True, dpi=600)\n",
    "plt.savefig('{}_1200dpi.svg'.format(filename), transparent=True, dpi = 1200)\n",
    "\n",
    "plt.show()"
   ]
  }
 ],
 "metadata": {
  "kernelspec": {
   "display_name": "Python 3 (ipykernel)",
   "language": "python",
   "name": "python3"
  },
  "language_info": {
   "codemirror_mode": {
    "name": "ipython",
    "version": 3
   },
   "file_extension": ".py",
   "mimetype": "text/x-python",
   "name": "python",
   "nbconvert_exporter": "python",
   "pygments_lexer": "ipython3",
   "version": "3.9.17"
  },
  "toc": {
   "base_numbering": 1,
   "nav_menu": {},
   "number_sections": true,
   "sideBar": true,
   "skip_h1_title": false,
   "title_cell": "Table of Contents",
   "title_sidebar": "Contents",
   "toc_cell": true,
   "toc_position": {
    "height": "calc(100% - 180px)",
    "left": "10px",
    "top": "150px",
    "width": "320px"
   },
   "toc_section_display": true,
   "toc_window_display": true
  }
 },
 "nbformat": 4,
 "nbformat_minor": 4
}

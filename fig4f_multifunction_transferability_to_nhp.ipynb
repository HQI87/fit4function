{
  "cells": [
    {
      "cell_type": "markdown",
      "id": "4c4d068a-590f-4a6e-8a60-56ed15582340",
      "metadata": {},
      "source": [
        "# MultiFunction transferability to NHP\n",
        "\n",
        "A 100K variant Fit4Function library was injected intravenously into a cynomolgus macaque and biodistribution was assessed four hours later. Variants in the administered library predicted to concurrently meet the six trait conditions were observed to be highly enriched in terms of macaque liver biodistribution. \n"
      ]
    },
    {
      "cell_type": "code",
      "execution_count": null,
      "id": "abade6f0-4dde-4735-b1c5-62367b09d48e",
      "metadata": {},
      "outputs": [],
      "source": [
        "#Setup\n",
        "import pandas as pd\n",
        "import numpy as np\n",
        "import matplotlib as mpl\n",
        "import matplotlib.pyplot as plt\n",
        "import seaborn as sns\n",
        "\n",
        "from IPython.display import Image"
      ]
    },
    {
      "cell_type": "markdown",
      "id": "e6198820-75a5-4c31-8bce-59e412af4dd8",
      "metadata": {},
      "source": [
        "-----\n",
        "# MultiFunction-Liver variants transferred to Macaque liver \n",
        "\n",
        "The density plot shows the distribution of variants normalized to the sum of counts for each indicated set of variants.\n",
        "\n"
      ]
    },
    {
      "cell_type": "code",
      "execution_count": null,
      "id": "6ac277dc-7b46-4e19-b297-b08db73e8eb1",
      "metadata": {},
      "outputs": [],
      "source": [
        "# Data \n",
        "\n",
        "# All library in NHP with MultiFxn-liver label\n",
        "file_name = 'data/multifunction_nhp_liver_transduction.csv'\n",
        "df = pd.read_csv(file_name)\n",
        "\n",
        "# AAV9 measured in the same experiment (absolute average, not log2)\n",
        "AAV9_mean_Liver = 0.565347309501600; "
      ]
    },
    {
      "cell_type": "code",
      "execution_count": null,
      "id": "ecbd7b40-924b-4faa-9991-74052fce0ac6",
      "metadata": {},
      "outputs": [],
      "source": [
        "# Figure Configurations and plot \n",
        "\n",
        "bin_width = 0.05\n",
        "bins = np.arange(-200, 200, bin_width)\n",
        "\n",
        "sns.set_theme(style='ticks', font_scale=0.75, rc={\n",
        "    'svg.fonttype': 'none',\n",
        "    'font.sans-serif': ['Arial'],\n",
        "    'font.family': 'sans-serif',\n",
        "    'text.usetex': False,\n",
        "    'pdf.fonttype': 42,\n",
        "    'ps.fonttype': 42,\n",
        "    'font.size': 9,\n",
        "    'axes.labelsize': 9,\n",
        "    'axes.titlesize': 9,\n",
        "    'lines.linewidth': 0.5,\n",
        "    'axes.linewidth': 0.5,\n",
        "    'legend.fontsize': 9,\n",
        "    'legend.title_fontsize': 9,\n",
        "    'xtick.major.size': 3,\n",
        "    'xtick.major.pad': 3,\n",
        "    'xtick.major.width': 0.5,\n",
        "    'ytick.major.size': 3,\n",
        "    'ytick.major.pad': 3,\n",
        "    'ytick.major.width': 0.5,\n",
        "})\n",
        "fig = plt.figure(figsize=(1.3, 1.3), dpi=300)\n",
        "gs = fig.add_gridspec(\n",
        "    1, 1,\n",
        "    wspace=0, hspace=0,\n",
        "    left=0.12, right=0.95, bottom=0.25, top=0.95\n",
        ")\n",
        "\n",
        "\n",
        "ax = fig.add_subplot(gs[0, 0])\n",
        "ax.hist(np.log2(df.mean_Liver), bins=bins, linewidth=0, density=True, color='b', alpha = 0.5)\n",
        "\n",
        "ax.hist(np.log2(df.mean_Liver[df.Meeting6==1]), bins=bins, linewidth=0, density=True, color='r', alpha = 0.5)\n",
        "\n",
        "\n",
        "# Labeling \n",
        "ax.set_xlim([-7, 4])\n",
        "ax.set_xticks(np.arange(-6, 5))\n",
        "ax.set_xticklabels([-6, '', -4, '', -2, '', 0, '', 2, '', 4], fontsize=6)\n",
        "ax.set_ylim([0, 1])\n",
        "ax.set_yticks([])\n",
        "\n",
        "ax.set_xlabel('Macaque liver biodistribution\\n(Log2 enrichment)', labelpad=0, fontsize=6)\n",
        "ax.set_ylabel('Density', labelpad=3 , fontsize=6)\n",
        "\n",
        "\n",
        "ax.text(-2, 0.8, 'All variants', transform=mpl.transforms.blended_transform_factory(ax.transData, ax.transAxes), \n",
        "        ha='center', va='top', color='gray', fontsize=6)\n",
        "ax.text(1.5, 0.95, 'MultiFxn variants', transform=mpl.transforms.blended_transform_factory(ax.transData, ax.transAxes), \n",
        "        ha='center', va='top', color='r', fontsize=6)\n",
        "\n",
        "ax.text(np.log2(AAV9_mean_Liver) - 1, 0.5, 'AAV9', transform=mpl.transforms.blended_transform_factory(ax.transData, ax.transAxes), \n",
        "        ha='center', va='top', fontsize=6)\n",
        "\n",
        "\n",
        "ax.axvline(np.log2(AAV9_mean_Liver), linewidth=0.5, linestyle='-', color='#666')\n",
        "\n",
        "\n",
        "# Save Figure and display \n",
        "filename = 'figures/fig4f_multifunction_transferability'\n",
        "fig.savefig('{}.png'.format(filename), dpi=300)\n",
        "fig.savefig('{}_600dpi.svg'.format(filename), dpi=600)\n",
        "fig.savefig('{}_1200dpi.svg'.format(filename), dpi=1200)\n",
        "\n",
        "plt.close()\n",
        "\n",
        "Image(filename + '.png')"
      ]
    }
  ],
  "metadata": {
    "kernelspec": {
      "display_name": "Python 3 (ipykernel)",
      "language": "python",
      "name": "python3"
    },
    "language_info": {
      "codemirror_mode": {
        "name": "ipython",
        "version": 3
      },
      "file_extension": ".py",
      "mimetype": "text/x-python",
      "name": "python",
      "nbconvert_exporter": "python",
      "pygments_lexer": "ipython3",
      "version": "3.9.17"
    }
  },
  "nbformat": 4,
  "nbformat_minor": 5
}
